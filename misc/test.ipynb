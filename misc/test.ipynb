{
 "cells": [
  {
   "cell_type": "code",
   "execution_count": 1,
   "metadata": {},
   "outputs": [],
   "source": [
    "import pandas as pd\n",
    "import json"
   ]
  },
  {
   "cell_type": "code",
   "execution_count": 2,
   "metadata": {},
   "outputs": [],
   "source": [
    "\n",
    "path = \"../data/\"\n",
    "file = \"MDS-01.txt\"\n",
    "df = pd.read_csv(path + file, sep=' ', header=None)\n",
    "df = df.rename(columns={0:'feature_code', 1 : 'x', 2: \"y\", 3:'z'}, errors=\"raise\")\n"
   ]
  },
  {
   "cell_type": "code",
   "execution_count": 24,
   "metadata": {},
   "outputs": [
    {
     "name": "stdout",
     "output_type": "stream",
     "text": [
      "(2358917.0, 3358917.0)\n",
      "(3358917.0, 4358917.0)\n",
      "(4358917.0, 5358917.0)\n",
      "(5358917.0, 6358917.0)\n",
      "(6358917.0, 7358917.0)\n",
      "(7358917.0, 8358917.0)\n",
      "(8358917.0, 9358917.0)\n",
      "(9358917.0, 10358917.0)\n",
      "(10358917.0, 11358917.0)\n"
     ]
    }
   ],
   "source": [
    "m = 1000000\n",
    "n = df.shape[0]/1000000\n",
    "a = df['y'].min()\n",
    "\n",
    "for i in range(int(n)):\n",
    "    print((a, a + m))\n",
    "    a += m\n",
    "\n",
    "\n"
   ]
  },
  {
   "cell_type": "code",
   "execution_count": 3,
   "metadata": {},
   "outputs": [],
   "source": [
    "feature = {200:'Terreno natural',\n",
    "201:'Terreno MDT (GRILLADO)',\n",
    "300:'Árboles mayores a 1m. de altura',\n",
    "301:'Árboles menores a 1m. de altura',\n",
    "400:'Vía principal (avenida)',\n",
    "401:'Vía secundaría',\n",
    "404:'Carreteable',\n",
    "406:'Vías Férreas',\n",
    "500:'Edificio, casa, construcción',\n",
    "504:'Tuberías',\n",
    "506:'Silo',\n",
    "509:'Puentes',\n",
    "515:'Señal de transito o valla publicitaria',\n",
    "518:'Estanques de combustible ',\n",
    "600:'Río o canal navegable',\n",
    "601:'Río o canal no navegable',\n",
    "603:'Lago o jagüey',\n",
    "698:'Torre existente alta tensión 34.5 kV',\n",
    "701:'Torre existente alta tensión 230 kV',\n",
    "702:'Torre existente alta tensión 500 kV',\n",
    "703:'Torre existente otras',\n",
    "704:'Postes ',\n",
    "705:'Conductor de alta tensión 34.5 kV',\n",
    "708:'Conductor de alta tensión 230 kV',\n",
    "709:'Conductor de alta tensión 500 kV',\n",
    "710:'Cable Guardia línea Eléctrica',\n",
    "711:'Conductor otros',\n",
    "712:'Cable de comunicación',\n",
    "715:'Subestación',\n",
    "101:'Riesgo Terreno Alto',\n",
    "104:'Riesgo Vegetación Alto',\n",
    "105:'Riesgo Vegetación Medio',\n",
    "106:'Riesgo Vegetación Bajo',\n",
    "107:'Riesgo Conductores Alto',\n",
    "111:'Riesgo Carretera Alto'} "
   ]
  },
  {
   "cell_type": "code",
   "execution_count": 4,
   "metadata": {},
   "outputs": [],
   "source": [
    "nice = [698, 701, 702, 703]"
   ]
  },
  {
   "cell_type": "code",
   "execution_count": 5,
   "metadata": {},
   "outputs": [],
   "source": [
    "Torres = df[df['feature_code'].isin(nice)].sort_values(by='y')"
   ]
  },
  {
   "cell_type": "code",
   "execution_count": 34,
   "metadata": {},
   "outputs": [],
   "source": [
    "Torres.to_csv(\"torres.csv\")"
   ]
  },
  {
   "cell_type": "code",
   "execution_count": 6,
   "metadata": {},
   "outputs": [
    {
     "data": {
      "text/html": [
       "<div>\n",
       "<style scoped>\n",
       "    .dataframe tbody tr th:only-of-type {\n",
       "        vertical-align: middle;\n",
       "    }\n",
       "\n",
       "    .dataframe tbody tr th {\n",
       "        vertical-align: top;\n",
       "    }\n",
       "\n",
       "    .dataframe thead th {\n",
       "        text-align: right;\n",
       "    }\n",
       "</style>\n",
       "<table border=\"1\" class=\"dataframe\">\n",
       "  <thead>\n",
       "    <tr style=\"text-align: right;\">\n",
       "      <th></th>\n",
       "      <th>feature_code</th>\n",
       "      <th>x</th>\n",
       "      <th>y</th>\n",
       "      <th>z</th>\n",
       "    </tr>\n",
       "  </thead>\n",
       "  <tbody>\n",
       "    <tr>\n",
       "      <th>210367</th>\n",
       "      <td>701</td>\n",
       "      <td>5056538.157</td>\n",
       "      <td>2359008.682</td>\n",
       "      <td>1795.035</td>\n",
       "    </tr>\n",
       "    <tr>\n",
       "      <th>210368</th>\n",
       "      <td>701</td>\n",
       "      <td>5056538.237</td>\n",
       "      <td>2359008.753</td>\n",
       "      <td>1794.987</td>\n",
       "    </tr>\n",
       "    <tr>\n",
       "      <th>210369</th>\n",
       "      <td>701</td>\n",
       "      <td>5056538.341</td>\n",
       "      <td>2359008.829</td>\n",
       "      <td>1795.207</td>\n",
       "    </tr>\n",
       "    <tr>\n",
       "      <th>210370</th>\n",
       "      <td>701</td>\n",
       "      <td>5056538.424</td>\n",
       "      <td>2359008.889</td>\n",
       "      <td>1794.992</td>\n",
       "    </tr>\n",
       "    <tr>\n",
       "      <th>210241</th>\n",
       "      <td>701</td>\n",
       "      <td>5056538.975</td>\n",
       "      <td>2359008.982</td>\n",
       "      <td>1795.456</td>\n",
       "    </tr>\n",
       "    <tr>\n",
       "      <th>...</th>\n",
       "      <td>...</td>\n",
       "      <td>...</td>\n",
       "      <td>...</td>\n",
       "      <td>...</td>\n",
       "    </tr>\n",
       "    <tr>\n",
       "      <th>2284508</th>\n",
       "      <td>701</td>\n",
       "      <td>5056551.763</td>\n",
       "      <td>2359020.835</td>\n",
       "      <td>1795.039</td>\n",
       "    </tr>\n",
       "    <tr>\n",
       "      <th>2284509</th>\n",
       "      <td>701</td>\n",
       "      <td>5056551.839</td>\n",
       "      <td>2359020.904</td>\n",
       "      <td>1795.143</td>\n",
       "    </tr>\n",
       "    <tr>\n",
       "      <th>2284510</th>\n",
       "      <td>701</td>\n",
       "      <td>5056551.931</td>\n",
       "      <td>2359020.977</td>\n",
       "      <td>1795.196</td>\n",
       "    </tr>\n",
       "    <tr>\n",
       "      <th>2284511</th>\n",
       "      <td>701</td>\n",
       "      <td>5056552.026</td>\n",
       "      <td>2359021.044</td>\n",
       "      <td>1795.170</td>\n",
       "    </tr>\n",
       "    <tr>\n",
       "      <th>2284512</th>\n",
       "      <td>701</td>\n",
       "      <td>5056552.119</td>\n",
       "      <td>2359021.118</td>\n",
       "      <td>1795.177</td>\n",
       "    </tr>\n",
       "  </tbody>\n",
       "</table>\n",
       "<p>1381 rows × 4 columns</p>\n",
       "</div>"
      ],
      "text/plain": [
       "         feature_code            x            y         z\n",
       "210367            701  5056538.157  2359008.682  1795.035\n",
       "210368            701  5056538.237  2359008.753  1794.987\n",
       "210369            701  5056538.341  2359008.829  1795.207\n",
       "210370            701  5056538.424  2359008.889  1794.992\n",
       "210241            701  5056538.975  2359008.982  1795.456\n",
       "...               ...          ...          ...       ...\n",
       "2284508           701  5056551.763  2359020.835  1795.039\n",
       "2284509           701  5056551.839  2359020.904  1795.143\n",
       "2284510           701  5056551.931  2359020.977  1795.196\n",
       "2284511           701  5056552.026  2359021.044  1795.170\n",
       "2284512           701  5056552.119  2359021.118  1795.177\n",
       "\n",
       "[1381 rows x 4 columns]"
      ]
     },
     "execution_count": 6,
     "metadata": {},
     "output_type": "execute_result"
    }
   ],
   "source": [
    "minT = Torres['y'].min()\n",
    "Torres[Torres['y'] < minT + 50]"
   ]
  },
  {
   "cell_type": "code",
   "execution_count": 7,
   "metadata": {},
   "outputs": [],
   "source": [
    "res = []\n",
    "temp = Torres\n",
    "while not temp.empty:\n",
    "    minT = temp['y'].min()\n",
    "    temp = temp[temp['y'] >= minT + 50]\n",
    "    res.append(minT)"
   ]
  },
  {
   "cell_type": "code",
   "execution_count": 8,
   "metadata": {},
   "outputs": [
    {
     "data": {
      "text/plain": [
       "[2359008.682,\n",
       " 2359287.53,\n",
       " 2359826.713,\n",
       " 2360107.572,\n",
       " 2360373.435,\n",
       " 2360552.125,\n",
       " 2360973.16,\n",
       " 2361579.613]"
      ]
     },
     "execution_count": 8,
     "metadata": {},
     "output_type": "execute_result"
    }
   ],
   "source": [
    "res"
   ]
  },
  {
   "cell_type": "code",
   "execution_count": 17,
   "metadata": {},
   "outputs": [],
   "source": [
    "sections = [(res[i], res[i + 1]) for i in range(len(res) - 1) ]"
   ]
  },
  {
   "cell_type": "code",
   "execution_count": 19,
   "metadata": {},
   "outputs": [
    {
     "name": "stdout",
     "output_type": "stream",
     "text": [
      "(853323, 4)\n",
      "(1728550, 4)\n",
      "(1348985, 4)\n",
      "(1212208, 4)\n",
      "(917235, 4)\n",
      "(1952585, 4)\n",
      "(1461037, 4)\n"
     ]
    }
   ],
   "source": [
    "for a,b in sections:\n",
    "    seccion1 = df.query(f'y >= {a} & y <=  {b}')\n",
    "    print(seccion1.shape)"
   ]
  },
  {
   "cell_type": "code",
   "execution_count": 6,
   "metadata": {},
   "outputs": [
    {
     "data": {
      "text/plain": [
       "[(106, 2054),\n",
       " (105, 1732),\n",
       " (104, 1286),\n",
       " (710, 1189),\n",
       " (300, 764),\n",
       " (701, 463),\n",
       " (711, 268),\n",
       " (712, 254),\n",
       " (301, 6)]"
      ]
     },
     "execution_count": 6,
     "metadata": {},
     "output_type": "execute_result"
    }
   ],
   "source": [
    "\n",
    "import pandas as pd\n",
    "from collections import Counter\n",
    "df = pd.read_csv(\"../data/Line1.csv\")\n",
    "df = df.sort_values(by=['y', 'x'])\n",
    "df = df[:1000000]\n",
    "Counter(list(df[df[\"Distance\"].notnull()]['feature_code'])).most_common(20)"
   ]
  },
  {
   "cell_type": "code",
   "execution_count": 26,
   "metadata": {},
   "outputs": [
    {
     "name": "stdout",
     "output_type": "stream",
     "text": [
      "MDS-01.txt\n",
      "8\n",
      "MDS-02.txt\n",
      "10\n",
      "MDS-03.txt\n",
      "7\n",
      "MDS-04.txt\n",
      "9\n",
      "MDS-05.txt\n",
      "8\n",
      "MDS-06.txt\n",
      "10\n",
      "MDS-07.txt\n",
      "6\n",
      "MDS-08.txt\n",
      "4\n",
      "MDS-09.txt\n",
      "5\n",
      "MDS-10.txt\n",
      "7\n",
      "MDS-11.txt\n",
      "8\n"
     ]
    }
   ],
   "source": [
    "path = \"../data/\"\n",
    "dic = {}\n",
    "nice = [698, 701, 702, 703]\n",
    "for i in range(1, 12):\n",
    "    file = \"MDS-\"+ str(i).zfill(2) + \".txt\"\n",
    "    print(file)\n",
    "    df = pd.read_csv(path + file, sep=' ', header=None)\n",
    "    df = df.rename(columns={0:'feature_code', 1 : 'x', 2: \"y\", 3:'z'}, errors=\"raise\")\n",
    "\n",
    "    Torres = df[df['feature_code'].isin(nice)].sort_values(by='y')\n",
    "\n",
    "    res = []\n",
    "    temp = Torres\n",
    "    while not temp.empty:\n",
    "        minT = temp['y'].min()\n",
    "        temp = temp[temp['y'] >= minT + 50]\n",
    "        res.append(minT)\n",
    "\n",
    "    dic[\"MDS-\" + str(i).zfill(2)] = res\n",
    "    print(len(res))\n",
    "\n",
    "with open('torres.json', 'w') as fp:\n",
    "    json.dump(dic, fp)\n"
   ]
  },
  {
   "cell_type": "code",
   "execution_count": null,
   "metadata": {},
   "outputs": [],
   "source": []
  },
  {
   "cell_type": "code",
   "execution_count": 1,
   "metadata": {},
   "outputs": [],
   "source": [
    "\n",
    "import laspy as lp\n",
    "import numpy as np\n",
    "import pandas as pd\n",
    "\n",
    "las = lp.read(\"../data/MDS-1.las\")"
   ]
  },
  {
   "cell_type": "code",
   "execution_count": 21,
   "metadata": {},
   "outputs": [
    {
     "data": {
      "text/plain": [
       "<ScaledArrayView([5056549.21038248 5056549.27438248 5056548.31538248 ... 5055413.07038248\n",
       " 5055413.07038248 5055413.07038248])>"
      ]
     },
     "execution_count": 21,
     "metadata": {},
     "output_type": "execute_result"
    }
   ],
   "source": [
    "las.x\n"
   ]
  },
  {
   "cell_type": "code",
   "execution_count": 22,
   "metadata": {},
   "outputs": [
    {
     "data": {
      "text/plain": [
       "array([2699890, 2699954, 2698995, ..., 1563750, 1563750, 1563750])"
      ]
     },
     "execution_count": 22,
     "metadata": {},
     "output_type": "execute_result"
    }
   ],
   "source": [
    "las.X"
   ]
  },
  {
   "cell_type": "code",
   "execution_count": 20,
   "metadata": {},
   "outputs": [
    {
     "data": {
      "text/plain": [
       "{0, 1}"
      ]
     },
     "execution_count": 20,
     "metadata": {},
     "output_type": "execute_result"
    }
   ],
   "source": [
    "set(list(las.synthetic))"
   ]
  }
 ],
 "metadata": {
  "kernelspec": {
   "display_name": "Python 3.10.0 64-bit",
   "language": "python",
   "name": "python3"
  },
  "language_info": {
   "codemirror_mode": {
    "name": "ipython",
    "version": 3
   },
   "file_extension": ".py",
   "mimetype": "text/x-python",
   "name": "python",
   "nbconvert_exporter": "python",
   "pygments_lexer": "ipython3",
   "version": "3.10.0"
  },
  "orig_nbformat": 4,
  "vscode": {
   "interpreter": {
    "hash": "26de051ba29f2982a8de78e945f0abaf191376122a1563185a90213a26c5da77"
   }
  }
 },
 "nbformat": 4,
 "nbformat_minor": 2
}
