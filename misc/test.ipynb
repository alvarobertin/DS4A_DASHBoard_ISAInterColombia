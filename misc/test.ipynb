{
 "cells": [
  {
   "cell_type": "code",
   "execution_count": 1,
   "metadata": {},
   "outputs": [],
   "source": [
    "import pandas as pd\n",
    "import json"
   ]
  },
  {
   "cell_type": "code",
   "execution_count": 2,
   "metadata": {},
   "outputs": [],
   "source": [
    "\n",
    "path = \"../data/\"\n",
    "file = \"MDS-01.txt\"\n",
    "df = pd.read_csv(path + file, sep=' ', header=None)\n",
    "df = df.rename(columns={0:'feature_code', 1 : 'x', 2: \"y\", 3:'z'}, errors=\"raise\")\n"
   ]
  },
  {
   "cell_type": "code",
   "execution_count": 24,
   "metadata": {},
   "outputs": [
    {
     "name": "stdout",
     "output_type": "stream",
     "text": [
      "(2358917.0, 3358917.0)\n",
      "(3358917.0, 4358917.0)\n",
      "(4358917.0, 5358917.0)\n",
      "(5358917.0, 6358917.0)\n",
      "(6358917.0, 7358917.0)\n",
      "(7358917.0, 8358917.0)\n",
      "(8358917.0, 9358917.0)\n",
      "(9358917.0, 10358917.0)\n",
      "(10358917.0, 11358917.0)\n"
     ]
    }
   ],
   "source": [
    "m = 1000000\n",
    "n = df.shape[0]/1000000\n",
    "a = df['y'].min()\n",
    "\n",
    "for i in range(int(n)):\n",
    "    print((a, a + m))\n",
    "    a += m\n",
    "\n",
    "\n"
   ]
  },
  {
   "cell_type": "code",
   "execution_count": 3,
   "metadata": {},
   "outputs": [],
   "source": [
    "feature = {200:'Terreno natural',\n",
    "201:'Terreno MDT (GRILLADO)',\n",
    "300:'Árboles mayores a 1m. de altura',\n",
    "301:'Árboles menores a 1m. de altura',\n",
    "400:'Vía principal (avenida)',\n",
    "401:'Vía secundaría',\n",
    "404:'Carreteable',\n",
    "406:'Vías Férreas',\n",
    "500:'Edificio, casa, construcción',\n",
    "504:'Tuberías',\n",
    "506:'Silo',\n",
    "509:'Puentes',\n",
    "515:'Señal de transito o valla publicitaria',\n",
    "518:'Estanques de combustible ',\n",
    "600:'Río o canal navegable',\n",
    "601:'Río o canal no navegable',\n",
    "603:'Lago o jagüey',\n",
    "698:'Torre existente alta tensión 34.5 kV',\n",
    "701:'Torre existente alta tensión 230 kV',\n",
    "702:'Torre existente alta tensión 500 kV',\n",
    "703:'Torre existente otras',\n",
    "704:'Postes ',\n",
    "705:'Conductor de alta tensión 34.5 kV',\n",
    "708:'Conductor de alta tensión 230 kV',\n",
    "709:'Conductor de alta tensión 500 kV',\n",
    "710:'Cable Guardia línea Eléctrica',\n",
    "711:'Conductor otros',\n",
    "712:'Cable de comunicación',\n",
    "715:'Subestación',\n",
    "101:'Riesgo Terreno Alto',\n",
    "104:'Riesgo Vegetación Alto',\n",
    "105:'Riesgo Vegetación Medio',\n",
    "106:'Riesgo Vegetación Bajo',\n",
    "107:'Riesgo Conductores Alto',\n",
    "111:'Riesgo Carretera Alto'} "
   ]
  },
  {
   "cell_type": "code",
   "execution_count": 4,
   "metadata": {},
   "outputs": [],
   "source": [
    "nice = [698, 701, 702, 703]"
   ]
  },
  {
   "cell_type": "code",
   "execution_count": 5,
   "metadata": {},
   "outputs": [],
   "source": [
    "Torres = df[df['feature_code'].isin(nice)].sort_values(by='y')"
   ]
  },
  {
   "cell_type": "code",
   "execution_count": 34,
   "metadata": {},
   "outputs": [],
   "source": [
    "Torres.to_csv(\"torres.csv\")"
   ]
  },
  {
   "cell_type": "code",
   "execution_count": 6,
   "metadata": {},
   "outputs": [
    {
     "data": {
      "text/html": [
       "<div>\n",
       "<style scoped>\n",
       "    .dataframe tbody tr th:only-of-type {\n",
       "        vertical-align: middle;\n",
       "    }\n",
       "\n",
       "    .dataframe tbody tr th {\n",
       "        vertical-align: top;\n",
       "    }\n",
       "\n",
       "    .dataframe thead th {\n",
       "        text-align: right;\n",
       "    }\n",
       "</style>\n",
       "<table border=\"1\" class=\"dataframe\">\n",
       "  <thead>\n",
       "    <tr style=\"text-align: right;\">\n",
       "      <th></th>\n",
       "      <th>feature_code</th>\n",
       "      <th>x</th>\n",
       "      <th>y</th>\n",
       "      <th>z</th>\n",
       "    </tr>\n",
       "  </thead>\n",
       "  <tbody>\n",
       "    <tr>\n",
       "      <th>210367</th>\n",
       "      <td>701</td>\n",
       "      <td>5056538.157</td>\n",
       "      <td>2359008.682</td>\n",
       "      <td>1795.035</td>\n",
       "    </tr>\n",
       "    <tr>\n",
       "      <th>210368</th>\n",
       "      <td>701</td>\n",
       "      <td>5056538.237</td>\n",
       "      <td>2359008.753</td>\n",
       "      <td>1794.987</td>\n",
       "    </tr>\n",
       "    <tr>\n",
       "      <th>210369</th>\n",
       "      <td>701</td>\n",
       "      <td>5056538.341</td>\n",
       "      <td>2359008.829</td>\n",
       "      <td>1795.207</td>\n",
       "    </tr>\n",
       "    <tr>\n",
       "      <th>210370</th>\n",
       "      <td>701</td>\n",
       "      <td>5056538.424</td>\n",
       "      <td>2359008.889</td>\n",
       "      <td>1794.992</td>\n",
       "    </tr>\n",
       "    <tr>\n",
       "      <th>210241</th>\n",
       "      <td>701</td>\n",
       "      <td>5056538.975</td>\n",
       "      <td>2359008.982</td>\n",
       "      <td>1795.456</td>\n",
       "    </tr>\n",
       "    <tr>\n",
       "      <th>...</th>\n",
       "      <td>...</td>\n",
       "      <td>...</td>\n",
       "      <td>...</td>\n",
       "      <td>...</td>\n",
       "    </tr>\n",
       "    <tr>\n",
       "      <th>2284508</th>\n",
       "      <td>701</td>\n",
       "      <td>5056551.763</td>\n",
       "      <td>2359020.835</td>\n",
       "      <td>1795.039</td>\n",
       "    </tr>\n",
       "    <tr>\n",
       "      <th>2284509</th>\n",
       "      <td>701</td>\n",
       "      <td>5056551.839</td>\n",
       "      <td>2359020.904</td>\n",
       "      <td>1795.143</td>\n",
       "    </tr>\n",
       "    <tr>\n",
       "      <th>2284510</th>\n",
       "      <td>701</td>\n",
       "      <td>5056551.931</td>\n",
       "      <td>2359020.977</td>\n",
       "      <td>1795.196</td>\n",
       "    </tr>\n",
       "    <tr>\n",
       "      <th>2284511</th>\n",
       "      <td>701</td>\n",
       "      <td>5056552.026</td>\n",
       "      <td>2359021.044</td>\n",
       "      <td>1795.170</td>\n",
       "    </tr>\n",
       "    <tr>\n",
       "      <th>2284512</th>\n",
       "      <td>701</td>\n",
       "      <td>5056552.119</td>\n",
       "      <td>2359021.118</td>\n",
       "      <td>1795.177</td>\n",
       "    </tr>\n",
       "  </tbody>\n",
       "</table>\n",
       "<p>1381 rows × 4 columns</p>\n",
       "</div>"
      ],
      "text/plain": [
       "         feature_code            x            y         z\n",
       "210367            701  5056538.157  2359008.682  1795.035\n",
       "210368            701  5056538.237  2359008.753  1794.987\n",
       "210369            701  5056538.341  2359008.829  1795.207\n",
       "210370            701  5056538.424  2359008.889  1794.992\n",
       "210241            701  5056538.975  2359008.982  1795.456\n",
       "...               ...          ...          ...       ...\n",
       "2284508           701  5056551.763  2359020.835  1795.039\n",
       "2284509           701  5056551.839  2359020.904  1795.143\n",
       "2284510           701  5056551.931  2359020.977  1795.196\n",
       "2284511           701  5056552.026  2359021.044  1795.170\n",
       "2284512           701  5056552.119  2359021.118  1795.177\n",
       "\n",
       "[1381 rows x 4 columns]"
      ]
     },
     "execution_count": 6,
     "metadata": {},
     "output_type": "execute_result"
    }
   ],
   "source": [
    "minT = Torres['y'].min()\n",
    "Torres[Torres['y'] < minT + 50]"
   ]
  },
  {
   "cell_type": "code",
   "execution_count": 7,
   "metadata": {},
   "outputs": [],
   "source": [
    "res = []\n",
    "temp = Torres\n",
    "while not temp.empty:\n",
    "    minT = temp['y'].min()\n",
    "    temp = temp[temp['y'] >= minT + 50]\n",
    "    res.append(minT)"
   ]
  },
  {
   "cell_type": "code",
   "execution_count": 8,
   "metadata": {},
   "outputs": [
    {
     "data": {
      "text/plain": [
       "[2359008.682,\n",
       " 2359287.53,\n",
       " 2359826.713,\n",
       " 2360107.572,\n",
       " 2360373.435,\n",
       " 2360552.125,\n",
       " 2360973.16,\n",
       " 2361579.613]"
      ]
     },
     "execution_count": 8,
     "metadata": {},
     "output_type": "execute_result"
    }
   ],
   "source": [
    "res"
   ]
  },
  {
   "cell_type": "code",
   "execution_count": 17,
   "metadata": {},
   "outputs": [],
   "source": [
    "sections = [(res[i], res[i + 1]) for i in range(len(res) - 1) ]"
   ]
  },
  {
   "cell_type": "code",
   "execution_count": 19,
   "metadata": {},
   "outputs": [
    {
     "name": "stdout",
     "output_type": "stream",
     "text": [
      "(853323, 4)\n",
      "(1728550, 4)\n",
      "(1348985, 4)\n",
      "(1212208, 4)\n",
      "(917235, 4)\n",
      "(1952585, 4)\n",
      "(1461037, 4)\n"
     ]
    }
   ],
   "source": [
    "for a,b in sections:\n",
    "    seccion1 = df.query(f'y >= {a} & y <=  {b}')\n",
    "    print(seccion1.shape)"
   ]
  },
  {
   "cell_type": "code",
   "execution_count": 6,
   "metadata": {},
   "outputs": [
    {
     "data": {
      "text/plain": [
       "[(106, 2054),\n",
       " (105, 1732),\n",
       " (104, 1286),\n",
       " (710, 1189),\n",
       " (300, 764),\n",
       " (701, 463),\n",
       " (711, 268),\n",
       " (712, 254),\n",
       " (301, 6)]"
      ]
     },
     "execution_count": 6,
     "metadata": {},
     "output_type": "execute_result"
    }
   ],
   "source": [
    "\n",
    "import pandas as pd\n",
    "from collections import Counter\n",
    "df = pd.read_csv(\"../data/Line1.csv\")\n",
    "df = df.sort_values(by=['y', 'x'])\n",
    "df = df[:1000000]\n",
    "Counter(list(df[df[\"Distance\"].notnull()]['feature_code'])).most_common(20)"
   ]
  },
  {
   "cell_type": "code",
   "execution_count": 26,
   "metadata": {},
   "outputs": [
    {
     "name": "stdout",
     "output_type": "stream",
     "text": [
      "MDS-01.txt\n",
      "8\n",
      "MDS-02.txt\n",
      "10\n",
      "MDS-03.txt\n",
      "7\n",
      "MDS-04.txt\n",
      "9\n",
      "MDS-05.txt\n",
      "8\n",
      "MDS-06.txt\n",
      "10\n",
      "MDS-07.txt\n",
      "6\n",
      "MDS-08.txt\n",
      "4\n",
      "MDS-09.txt\n",
      "5\n",
      "MDS-10.txt\n",
      "7\n",
      "MDS-11.txt\n",
      "8\n"
     ]
    }
   ],
   "source": [
    "path = \"../data/\"\n",
    "dic = {}\n",
    "nice = [698, 701, 702, 703]\n",
    "for i in range(1, 12):\n",
    "    file = \"MDS-\"+ str(i).zfill(2) + \".txt\"\n",
    "    print(file)\n",
    "    df = pd.read_csv(path + file, sep=' ', header=None)\n",
    "    df = df.rename(columns={0:'feature_code', 1 : 'x', 2: \"y\", 3:'z'}, errors=\"raise\")\n",
    "\n",
    "    Torres = df[df['feature_code'].isin(nice)].sort_values(by='y')\n",
    "\n",
    "    res = []\n",
    "    temp = Torres\n",
    "    while not temp.empty:\n",
    "        minT = temp['y'].min()\n",
    "        temp = temp[temp['y'] >= minT + 50]\n",
    "        res.append(minT)\n",
    "\n",
    "    dic[\"MDS-\" + str(i).zfill(2)] = res\n",
    "    print(len(res))\n",
    "\n",
    "with open('torres.json', 'w') as fp:\n",
    "    json.dump(dic, fp)\n"
   ]
  },
  {
   "cell_type": "code",
   "execution_count": null,
   "metadata": {},
   "outputs": [],
   "source": []
  },
  {
   "cell_type": "code",
   "execution_count": 2,
   "metadata": {},
   "outputs": [],
   "source": [
    "\n",
    "import laspy as lp\n",
    "import numpy as np\n",
    "import pandas as pd\n",
    "\n",
    "las = lp.read(\"../data/MDS-1.las\")"
   ]
  },
  {
   "cell_type": "code",
   "execution_count": 21,
   "metadata": {},
   "outputs": [
    {
     "data": {
      "text/plain": [
       "<ScaledArrayView([5056549.21038248 5056549.27438248 5056548.31538248 ... 5055413.07038248\n",
       " 5055413.07038248 5055413.07038248])>"
      ]
     },
     "execution_count": 21,
     "metadata": {},
     "output_type": "execute_result"
    }
   ],
   "source": [
    "las.x\n"
   ]
  },
  {
   "cell_type": "code",
   "execution_count": 22,
   "metadata": {},
   "outputs": [
    {
     "data": {
      "text/plain": [
       "array([2699890, 2699954, 2698995, ..., 1563750, 1563750, 1563750])"
      ]
     },
     "execution_count": 22,
     "metadata": {},
     "output_type": "execute_result"
    }
   ],
   "source": [
    "las.X"
   ]
  },
  {
   "cell_type": "code",
   "execution_count": 3,
   "metadata": {},
   "outputs": [
    {
     "name": "stderr",
     "output_type": "stream",
     "text": [
      "C:\\Users\\ajbss\\AppData\\Local\\Temp\\ipykernel_24836\\1469902924.py:2: DtypeWarning: Columns (9,10) have mixed types. Specify dtype option on import or set low_memory=False.\n",
      "  df = pd.read_csv(\"../data/Line1.csv\")\n"
     ]
    }
   ],
   "source": [
    "import plotly.express as px\n",
    "df = pd.read_csv(\"../data/Line1.csv\")"
   ]
  },
  {
   "cell_type": "code",
   "execution_count": 4,
   "metadata": {},
   "outputs": [
    {
     "data": {
      "text/html": [
       "<div>\n",
       "<style scoped>\n",
       "    .dataframe tbody tr th:only-of-type {\n",
       "        vertical-align: middle;\n",
       "    }\n",
       "\n",
       "    .dataframe tbody tr th {\n",
       "        vertical-align: top;\n",
       "    }\n",
       "\n",
       "    .dataframe thead th {\n",
       "        text-align: right;\n",
       "    }\n",
       "</style>\n",
       "<table border=\"1\" class=\"dataframe\">\n",
       "  <thead>\n",
       "    <tr style=\"text-align: right;\">\n",
       "      <th></th>\n",
       "      <th>x</th>\n",
       "      <th>y</th>\n",
       "      <th>z</th>\n",
       "      <th>feature_code</th>\n",
       "      <th>r</th>\n",
       "      <th>g</th>\n",
       "      <th>b</th>\n",
       "      <th>Neighbour</th>\n",
       "      <th>Distance</th>\n",
       "      <th>Risk Type</th>\n",
       "      <th>Risk_Level</th>\n",
       "    </tr>\n",
       "  </thead>\n",
       "  <tbody>\n",
       "    <tr>\n",
       "      <th>0</th>\n",
       "      <td>5056549.210</td>\n",
       "      <td>2358975.150</td>\n",
       "      <td>1763.197</td>\n",
       "      <td>200</td>\n",
       "      <td>52</td>\n",
       "      <td>74</td>\n",
       "      <td>21</td>\n",
       "      <td>NaN</td>\n",
       "      <td>NaN</td>\n",
       "      <td>0</td>\n",
       "      <td>0</td>\n",
       "    </tr>\n",
       "    <tr>\n",
       "      <th>1</th>\n",
       "      <td>5056549.274</td>\n",
       "      <td>2358974.909</td>\n",
       "      <td>1763.091</td>\n",
       "      <td>200</td>\n",
       "      <td>84</td>\n",
       "      <td>115</td>\n",
       "      <td>43</td>\n",
       "      <td>NaN</td>\n",
       "      <td>NaN</td>\n",
       "      <td>0</td>\n",
       "      <td>0</td>\n",
       "    </tr>\n",
       "  </tbody>\n",
       "</table>\n",
       "</div>"
      ],
      "text/plain": [
       "             x            y         z  feature_code   r    g   b  Neighbour  \\\n",
       "0  5056549.210  2358975.150  1763.197           200  52   74  21        NaN   \n",
       "1  5056549.274  2358974.909  1763.091           200  84  115  43        NaN   \n",
       "\n",
       "   Distance Risk Type Risk_Level  \n",
       "0       NaN         0          0  \n",
       "1       NaN         0          0  "
      ]
     },
     "execution_count": 4,
     "metadata": {},
     "output_type": "execute_result"
    }
   ],
   "source": [
    "df.head(2)"
   ]
  },
  {
   "cell_type": "code",
   "execution_count": 65,
   "metadata": {},
   "outputs": [],
   "source": [
    "t = df.sort_values(by=['y', 'x'])\n",
    "minY = t['y'].min()\n",
    "minX = t[t['y'] == minY]['x']\n",
    "maxY = t['y'].max()\n",
    "maxX = t[t['y'] == maxY]['x']"
   ]
  },
  {
   "cell_type": "code",
   "execution_count": 21,
   "metadata": {},
   "outputs": [
    {
     "name": "stdout",
     "output_type": "stream",
     "text": [
      "           Risk Type   Risk_Level      0\n",
      "0  Other Lines Risks    High Risk   3241\n",
      "1  Other Lines Risks     Low Risk   8547\n",
      "2          Road Risk     Low Risk      4\n",
      "3       Terrain Risk     Low Risk    695\n",
      "4    Vegetation Risk    High Risk    983\n",
      "5    Vegetation Risk     Low Risk  11843\n",
      "6    Vegetation Risk  Medium Risk   3096\n"
     ]
    }
   ],
   "source": [
    "df2 = df[df[\"Risk Type\"] != \"0\"][['Risk Type', 'Risk_Level']]\n",
    "df2 = df2[df2[\"Risk Type\"] != 0]\n",
    "\n",
    "df3 = pd.DataFrame(df2.groupby(['Risk Type', 'Risk_Level']).size()).reset_index()\n",
    "print(df3)\n",
    "df3_p = df3.pivot(index='Risk Type', columns='Risk_Level', values = 0)\n",
    "\n",
    "res = df3_p.fillna(0)\n",
    "\n",
    "res = res.reindex(columns=[\"Low Risk\", \"Medium Risk\", \"High Risk\"])"
   ]
  },
  {
   "cell_type": "code",
   "execution_count": 15,
   "metadata": {},
   "outputs": [],
   "source": [
    "def df_to_plotly(df):\n",
    "    return {'z': df.values.tolist(),\n",
    "            'x': df.columns.tolist(),\n",
    "            'y': df.index.tolist()}"
   ]
  },
  {
   "cell_type": "code",
   "execution_count": 2,
   "metadata": {},
   "outputs": [
    {
     "data": {
      "application/vnd.plotly.v1+json": {
       "config": {
        "plotlyServerURL": "https://plot.ly"
       },
       "data": [
        {
         "colorscale": [
          [
           0,
           "rgb(255,245,240)"
          ],
          [
           0.125,
           "rgb(254,224,210)"
          ],
          [
           0.25,
           "rgb(252,187,161)"
          ],
          [
           0.375,
           "rgb(252,146,114)"
          ],
          [
           0.5,
           "rgb(251,106,74)"
          ],
          [
           0.625,
           "rgb(239,59,44)"
          ],
          [
           0.75,
           "rgb(203,24,29)"
          ],
          [
           0.875,
           "rgb(165,15,21)"
          ],
          [
           1,
           "rgb(103,0,13)"
          ]
         ],
         "type": "heatmap"
        }
       ],
       "layout": {
        "template": {
         "data": {
          "bar": [
           {
            "error_x": {
             "color": "#2a3f5f"
            },
            "error_y": {
             "color": "#2a3f5f"
            },
            "marker": {
             "line": {
              "color": "#E5ECF6",
              "width": 0.5
             },
             "pattern": {
              "fillmode": "overlay",
              "size": 10,
              "solidity": 0.2
             }
            },
            "type": "bar"
           }
          ],
          "barpolar": [
           {
            "marker": {
             "line": {
              "color": "#E5ECF6",
              "width": 0.5
             },
             "pattern": {
              "fillmode": "overlay",
              "size": 10,
              "solidity": 0.2
             }
            },
            "type": "barpolar"
           }
          ],
          "carpet": [
           {
            "aaxis": {
             "endlinecolor": "#2a3f5f",
             "gridcolor": "white",
             "linecolor": "white",
             "minorgridcolor": "white",
             "startlinecolor": "#2a3f5f"
            },
            "baxis": {
             "endlinecolor": "#2a3f5f",
             "gridcolor": "white",
             "linecolor": "white",
             "minorgridcolor": "white",
             "startlinecolor": "#2a3f5f"
            },
            "type": "carpet"
           }
          ],
          "choropleth": [
           {
            "colorbar": {
             "outlinewidth": 0,
             "ticks": ""
            },
            "type": "choropleth"
           }
          ],
          "contour": [
           {
            "colorbar": {
             "outlinewidth": 0,
             "ticks": ""
            },
            "colorscale": [
             [
              0,
              "#0d0887"
             ],
             [
              0.1111111111111111,
              "#46039f"
             ],
             [
              0.2222222222222222,
              "#7201a8"
             ],
             [
              0.3333333333333333,
              "#9c179e"
             ],
             [
              0.4444444444444444,
              "#bd3786"
             ],
             [
              0.5555555555555556,
              "#d8576b"
             ],
             [
              0.6666666666666666,
              "#ed7953"
             ],
             [
              0.7777777777777778,
              "#fb9f3a"
             ],
             [
              0.8888888888888888,
              "#fdca26"
             ],
             [
              1,
              "#f0f921"
             ]
            ],
            "type": "contour"
           }
          ],
          "contourcarpet": [
           {
            "colorbar": {
             "outlinewidth": 0,
             "ticks": ""
            },
            "type": "contourcarpet"
           }
          ],
          "heatmap": [
           {
            "colorbar": {
             "outlinewidth": 0,
             "ticks": ""
            },
            "colorscale": [
             [
              0,
              "#0d0887"
             ],
             [
              0.1111111111111111,
              "#46039f"
             ],
             [
              0.2222222222222222,
              "#7201a8"
             ],
             [
              0.3333333333333333,
              "#9c179e"
             ],
             [
              0.4444444444444444,
              "#bd3786"
             ],
             [
              0.5555555555555556,
              "#d8576b"
             ],
             [
              0.6666666666666666,
              "#ed7953"
             ],
             [
              0.7777777777777778,
              "#fb9f3a"
             ],
             [
              0.8888888888888888,
              "#fdca26"
             ],
             [
              1,
              "#f0f921"
             ]
            ],
            "type": "heatmap"
           }
          ],
          "heatmapgl": [
           {
            "colorbar": {
             "outlinewidth": 0,
             "ticks": ""
            },
            "colorscale": [
             [
              0,
              "#0d0887"
             ],
             [
              0.1111111111111111,
              "#46039f"
             ],
             [
              0.2222222222222222,
              "#7201a8"
             ],
             [
              0.3333333333333333,
              "#9c179e"
             ],
             [
              0.4444444444444444,
              "#bd3786"
             ],
             [
              0.5555555555555556,
              "#d8576b"
             ],
             [
              0.6666666666666666,
              "#ed7953"
             ],
             [
              0.7777777777777778,
              "#fb9f3a"
             ],
             [
              0.8888888888888888,
              "#fdca26"
             ],
             [
              1,
              "#f0f921"
             ]
            ],
            "type": "heatmapgl"
           }
          ],
          "histogram": [
           {
            "marker": {
             "pattern": {
              "fillmode": "overlay",
              "size": 10,
              "solidity": 0.2
             }
            },
            "type": "histogram"
           }
          ],
          "histogram2d": [
           {
            "colorbar": {
             "outlinewidth": 0,
             "ticks": ""
            },
            "colorscale": [
             [
              0,
              "#0d0887"
             ],
             [
              0.1111111111111111,
              "#46039f"
             ],
             [
              0.2222222222222222,
              "#7201a8"
             ],
             [
              0.3333333333333333,
              "#9c179e"
             ],
             [
              0.4444444444444444,
              "#bd3786"
             ],
             [
              0.5555555555555556,
              "#d8576b"
             ],
             [
              0.6666666666666666,
              "#ed7953"
             ],
             [
              0.7777777777777778,
              "#fb9f3a"
             ],
             [
              0.8888888888888888,
              "#fdca26"
             ],
             [
              1,
              "#f0f921"
             ]
            ],
            "type": "histogram2d"
           }
          ],
          "histogram2dcontour": [
           {
            "colorbar": {
             "outlinewidth": 0,
             "ticks": ""
            },
            "colorscale": [
             [
              0,
              "#0d0887"
             ],
             [
              0.1111111111111111,
              "#46039f"
             ],
             [
              0.2222222222222222,
              "#7201a8"
             ],
             [
              0.3333333333333333,
              "#9c179e"
             ],
             [
              0.4444444444444444,
              "#bd3786"
             ],
             [
              0.5555555555555556,
              "#d8576b"
             ],
             [
              0.6666666666666666,
              "#ed7953"
             ],
             [
              0.7777777777777778,
              "#fb9f3a"
             ],
             [
              0.8888888888888888,
              "#fdca26"
             ],
             [
              1,
              "#f0f921"
             ]
            ],
            "type": "histogram2dcontour"
           }
          ],
          "mesh3d": [
           {
            "colorbar": {
             "outlinewidth": 0,
             "ticks": ""
            },
            "type": "mesh3d"
           }
          ],
          "parcoords": [
           {
            "line": {
             "colorbar": {
              "outlinewidth": 0,
              "ticks": ""
             }
            },
            "type": "parcoords"
           }
          ],
          "pie": [
           {
            "automargin": true,
            "type": "pie"
           }
          ],
          "scatter": [
           {
            "marker": {
             "colorbar": {
              "outlinewidth": 0,
              "ticks": ""
             }
            },
            "type": "scatter"
           }
          ],
          "scatter3d": [
           {
            "line": {
             "colorbar": {
              "outlinewidth": 0,
              "ticks": ""
             }
            },
            "marker": {
             "colorbar": {
              "outlinewidth": 0,
              "ticks": ""
             }
            },
            "type": "scatter3d"
           }
          ],
          "scattercarpet": [
           {
            "marker": {
             "colorbar": {
              "outlinewidth": 0,
              "ticks": ""
             }
            },
            "type": "scattercarpet"
           }
          ],
          "scattergeo": [
           {
            "marker": {
             "colorbar": {
              "outlinewidth": 0,
              "ticks": ""
             }
            },
            "type": "scattergeo"
           }
          ],
          "scattergl": [
           {
            "marker": {
             "colorbar": {
              "outlinewidth": 0,
              "ticks": ""
             }
            },
            "type": "scattergl"
           }
          ],
          "scattermapbox": [
           {
            "marker": {
             "colorbar": {
              "outlinewidth": 0,
              "ticks": ""
             }
            },
            "type": "scattermapbox"
           }
          ],
          "scatterpolar": [
           {
            "marker": {
             "colorbar": {
              "outlinewidth": 0,
              "ticks": ""
             }
            },
            "type": "scatterpolar"
           }
          ],
          "scatterpolargl": [
           {
            "marker": {
             "colorbar": {
              "outlinewidth": 0,
              "ticks": ""
             }
            },
            "type": "scatterpolargl"
           }
          ],
          "scatterternary": [
           {
            "marker": {
             "colorbar": {
              "outlinewidth": 0,
              "ticks": ""
             }
            },
            "type": "scatterternary"
           }
          ],
          "surface": [
           {
            "colorbar": {
             "outlinewidth": 0,
             "ticks": ""
            },
            "colorscale": [
             [
              0,
              "#0d0887"
             ],
             [
              0.1111111111111111,
              "#46039f"
             ],
             [
              0.2222222222222222,
              "#7201a8"
             ],
             [
              0.3333333333333333,
              "#9c179e"
             ],
             [
              0.4444444444444444,
              "#bd3786"
             ],
             [
              0.5555555555555556,
              "#d8576b"
             ],
             [
              0.6666666666666666,
              "#ed7953"
             ],
             [
              0.7777777777777778,
              "#fb9f3a"
             ],
             [
              0.8888888888888888,
              "#fdca26"
             ],
             [
              1,
              "#f0f921"
             ]
            ],
            "type": "surface"
           }
          ],
          "table": [
           {
            "cells": {
             "fill": {
              "color": "#EBF0F8"
             },
             "line": {
              "color": "white"
             }
            },
            "header": {
             "fill": {
              "color": "#C8D4E3"
             },
             "line": {
              "color": "white"
             }
            },
            "type": "table"
           }
          ]
         },
         "layout": {
          "annotationdefaults": {
           "arrowcolor": "#2a3f5f",
           "arrowhead": 0,
           "arrowwidth": 1
          },
          "autotypenumbers": "strict",
          "coloraxis": {
           "colorbar": {
            "outlinewidth": 0,
            "ticks": ""
           }
          },
          "colorscale": {
           "diverging": [
            [
             0,
             "#8e0152"
            ],
            [
             0.1,
             "#c51b7d"
            ],
            [
             0.2,
             "#de77ae"
            ],
            [
             0.3,
             "#f1b6da"
            ],
            [
             0.4,
             "#fde0ef"
            ],
            [
             0.5,
             "#f7f7f7"
            ],
            [
             0.6,
             "#e6f5d0"
            ],
            [
             0.7,
             "#b8e186"
            ],
            [
             0.8,
             "#7fbc41"
            ],
            [
             0.9,
             "#4d9221"
            ],
            [
             1,
             "#276419"
            ]
           ],
           "sequential": [
            [
             0,
             "#0d0887"
            ],
            [
             0.1111111111111111,
             "#46039f"
            ],
            [
             0.2222222222222222,
             "#7201a8"
            ],
            [
             0.3333333333333333,
             "#9c179e"
            ],
            [
             0.4444444444444444,
             "#bd3786"
            ],
            [
             0.5555555555555556,
             "#d8576b"
            ],
            [
             0.6666666666666666,
             "#ed7953"
            ],
            [
             0.7777777777777778,
             "#fb9f3a"
            ],
            [
             0.8888888888888888,
             "#fdca26"
            ],
            [
             1,
             "#f0f921"
            ]
           ],
           "sequentialminus": [
            [
             0,
             "#0d0887"
            ],
            [
             0.1111111111111111,
             "#46039f"
            ],
            [
             0.2222222222222222,
             "#7201a8"
            ],
            [
             0.3333333333333333,
             "#9c179e"
            ],
            [
             0.4444444444444444,
             "#bd3786"
            ],
            [
             0.5555555555555556,
             "#d8576b"
            ],
            [
             0.6666666666666666,
             "#ed7953"
            ],
            [
             0.7777777777777778,
             "#fb9f3a"
            ],
            [
             0.8888888888888888,
             "#fdca26"
            ],
            [
             1,
             "#f0f921"
            ]
           ]
          },
          "colorway": [
           "#636efa",
           "#EF553B",
           "#00cc96",
           "#ab63fa",
           "#FFA15A",
           "#19d3f3",
           "#FF6692",
           "#B6E880",
           "#FF97FF",
           "#FECB52"
          ],
          "font": {
           "color": "#2a3f5f"
          },
          "geo": {
           "bgcolor": "white",
           "lakecolor": "white",
           "landcolor": "#E5ECF6",
           "showlakes": true,
           "showland": true,
           "subunitcolor": "white"
          },
          "hoverlabel": {
           "align": "left"
          },
          "hovermode": "closest",
          "mapbox": {
           "style": "light"
          },
          "paper_bgcolor": "white",
          "plot_bgcolor": "#E5ECF6",
          "polar": {
           "angularaxis": {
            "gridcolor": "white",
            "linecolor": "white",
            "ticks": ""
           },
           "bgcolor": "#E5ECF6",
           "radialaxis": {
            "gridcolor": "white",
            "linecolor": "white",
            "ticks": ""
           }
          },
          "scene": {
           "xaxis": {
            "backgroundcolor": "#E5ECF6",
            "gridcolor": "white",
            "gridwidth": 2,
            "linecolor": "white",
            "showbackground": true,
            "ticks": "",
            "zerolinecolor": "white"
           },
           "yaxis": {
            "backgroundcolor": "#E5ECF6",
            "gridcolor": "white",
            "gridwidth": 2,
            "linecolor": "white",
            "showbackground": true,
            "ticks": "",
            "zerolinecolor": "white"
           },
           "zaxis": {
            "backgroundcolor": "#E5ECF6",
            "gridcolor": "white",
            "gridwidth": 2,
            "linecolor": "white",
            "showbackground": true,
            "ticks": "",
            "zerolinecolor": "white"
           }
          },
          "shapedefaults": {
           "line": {
            "color": "#2a3f5f"
           }
          },
          "ternary": {
           "aaxis": {
            "gridcolor": "white",
            "linecolor": "white",
            "ticks": ""
           },
           "baxis": {
            "gridcolor": "white",
            "linecolor": "white",
            "ticks": ""
           },
           "bgcolor": "#E5ECF6",
           "caxis": {
            "gridcolor": "white",
            "linecolor": "white",
            "ticks": ""
           }
          },
          "title": {
           "x": 0.05
          },
          "xaxis": {
           "automargin": true,
           "gridcolor": "white",
           "linecolor": "white",
           "ticks": "",
           "title": {
            "standoff": 15
           },
           "zerolinecolor": "white",
           "zerolinewidth": 2
          },
          "yaxis": {
           "automargin": true,
           "gridcolor": "white",
           "linecolor": "white",
           "ticks": "",
           "title": {
            "standoff": 15
           },
           "zerolinecolor": "white",
           "zerolinewidth": 2
          }
         }
        }
       }
      }
     },
     "metadata": {},
     "output_type": "display_data"
    }
   ],
   "source": [
    "import plotly.graph_objects as go\n",
    "\n",
    "fig = go.Figure(data=go.Heatmap(df_to_plotly(res), type = 'heatmap',colorscale = 'reds'))\n",
    "fig.show()"
   ]
  },
  {
   "cell_type": "code",
   "execution_count": 24,
   "metadata": {},
   "outputs": [],
   "source": [
    "import pyproj\n",
    "import math"
   ]
  },
  {
   "cell_type": "code",
   "execution_count": 83,
   "metadata": {},
   "outputs": [],
   "source": [
    "#+proj=tmerc +lat_0=4.0 +lon_0=-73.0 +k=0.9992 +x_0=5000000 +y_0=2000000 +ellps=GRS80 +towgs84=0,0,0,0,0,0,0 +units=m +no_defs\n",
    "P = pyproj.Proj(\"+proj=tmerc +ellps=GRS80 +a=6378137.0 +rf=298.257222101 +pm=0 +x_0=5000000.0 +y_0=2000000.0 +lon_0=-73.0 +lat_0=4.0 +units=m +axis=enu \", preserve_units=True)\n",
    "\n",
    "def LatLon_To_XY(Lat,Lon):\n",
    "    return P(Lat,Lon)    \n",
    "\n",
    "def XY_To_LatLon(x,y):\n",
    "    a, b = P(x, y, inverse=True) \n",
    "    return b, a"
   ]
  },
  {
   "cell_type": "code",
   "execution_count": 84,
   "metadata": {},
   "outputs": [
    {
     "data": {
      "text/plain": [
       "(7.247923096002548, -72.48671516766619)"
      ]
     },
     "execution_count": 84,
     "metadata": {},
     "output_type": "execute_result"
    }
   ],
   "source": [
    "XY_To_LatLon(5056640.452, 2358917.0)"
   ]
  },
  {
   "cell_type": "code",
   "execution_count": 74,
   "metadata": {},
   "outputs": [
    {
     "data": {
      "text/plain": [
       "(-72.50936783210588, 7.269843732695028)"
      ]
     },
     "execution_count": 74,
     "metadata": {},
     "output_type": "execute_result"
    }
   ],
   "source": [
    "XY_To_LatLon(5054181.417,2361625.932)"
   ]
  },
  {
   "cell_type": "code",
   "execution_count": 46,
   "metadata": {},
   "outputs": [],
   "source": [
    "pipeline_str = (\n",
    "    \"+proj=tmerc +lat_0=4.0 +lon_0=-73.0\"\n",
    "    \"+k=0.9992 +x_0=5000000 +y_0=2000000 +ellps=GRS80\"\n",
    ")\n",
    "pipe_trans = pyproj.Transformer.from_pipeline(pipeline_str)"
   ]
  },
  {
   "cell_type": "code",
   "execution_count": 47,
   "metadata": {},
   "outputs": [
    {
     "data": {
      "text/plain": [
       "(inf, inf)"
      ]
     },
     "execution_count": 47,
     "metadata": {},
     "output_type": "execute_result"
    }
   ],
   "source": [
    "pipe_trans.transform(5056549.210,2358975.150)"
   ]
  },
  {
   "cell_type": "code",
   "execution_count": 52,
   "metadata": {},
   "outputs": [
    {
     "data": {
      "text/plain": [
       "'+proj=utm +ellps=GRS80 +a=6378137.0 +rf=298.257222101 +pm=0 +x_0=5000000.0 +y_0=2000000.0 +lon_0=-73.0 +lat_0=4.0 +units=m +axis=enu +no_defs'"
      ]
     },
     "execution_count": 52,
     "metadata": {},
     "output_type": "execute_result"
    }
   ],
   "source": [
    "import pycrs\n",
    "crs = pycrs.parse.from_unknown_text(\"\"\"PROJCS[\"MAGNA-SIRGAS_Origen-Nacional\",GEOGCS[\"GCS_MAGNA\",DATUM[\"D_MAGNA\",SPHEROID[\"GRS_1980\",6378137.0,298.257222101]],PRIMEM[\"Greenwich\",0.0],UNIT[\"Degree\",0.0174532925199433]],PROJECTION[\"Transverse_Mercator\"],PARAMETER[\"False_Easting\",5000000.0],PARAMETER[\"False_Northing\",2000000.0],PARAMETER[\"Central_Meridian\",-73.0],PARAMETER[\"Scale_Factor\",0.9992],PARAMETER[\"Latitude_Of_Origin\",4.0],UNIT[\"Meter\",1.0]]\"\"\")\n",
    "crs.to_proj4()"
   ]
  }
 ],
 "metadata": {
  "kernelspec": {
   "display_name": "Python 3.10.0 64-bit",
   "language": "python",
   "name": "python3"
  },
  "language_info": {
   "codemirror_mode": {
    "name": "ipython",
    "version": 3
   },
   "file_extension": ".py",
   "mimetype": "text/x-python",
   "name": "python",
   "nbconvert_exporter": "python",
   "pygments_lexer": "ipython3",
   "version": "3.10.0"
  },
  "orig_nbformat": 4,
  "vscode": {
   "interpreter": {
    "hash": "26de051ba29f2982a8de78e945f0abaf191376122a1563185a90213a26c5da77"
   }
  }
 },
 "nbformat": 4,
 "nbformat_minor": 2
}
