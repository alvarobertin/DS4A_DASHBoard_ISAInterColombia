{
 "cells": [
  {
   "cell_type": "code",
   "execution_count": 23,
   "metadata": {},
   "outputs": [],
   "source": [
    "import pandas as pd\n",
    "import json"
   ]
  },
  {
   "cell_type": "code",
   "execution_count": 3,
   "metadata": {},
   "outputs": [],
   "source": [
    "\n",
    "path = \"../data/\"\n",
    "file = \"MDS-01.txt\"\n",
    "df = pd.read_csv(path + file, sep=' ', header=None)\n",
    "df = df.rename(columns={0:'feature_code', 1 : 'x', 2: \"y\", 3:'z'}, errors=\"raise\")\n"
   ]
  },
  {
   "cell_type": "code",
   "execution_count": 5,
   "metadata": {},
   "outputs": [],
   "source": [
    "feature = {200:'Terreno natural',\n",
    "201:'Terreno MDT (GRILLADO)',\n",
    "300:'Árboles mayores a 1m. de altura',\n",
    "301:'Árboles menores a 1m. de altura',\n",
    "400:'Vía principal (avenida)',\n",
    "401:'Vía secundaría',\n",
    "404:'Carreteable',\n",
    "406:'Vías Férreas',\n",
    "500:'Edificio, casa, construcción',\n",
    "504:'Tuberías',\n",
    "506:'Silo',\n",
    "509:'Puentes',\n",
    "515:'Señal de transito o valla publicitaria',\n",
    "518:'Estanques de combustible ',\n",
    "600:'Río o canal navegable',\n",
    "601:'Río o canal no navegable',\n",
    "603:'Lago o jagüey',\n",
    "698:'Torre existente alta tensión 34.5 kV',\n",
    "701:'Torre existente alta tensión 230 kV',\n",
    "702:'Torre existente alta tensión 500 kV',\n",
    "703:'Torre existente otras',\n",
    "704:'Postes ',\n",
    "705:'Conductor de alta tensión 34.5 kV',\n",
    "708:'Conductor de alta tensión 230 kV',\n",
    "709:'Conductor de alta tensión 500 kV',\n",
    "710:'Cable Guardia línea Eléctrica',\n",
    "711:'Conductor otros',\n",
    "712:'Cable de comunicación',\n",
    "715:'Subestación',\n",
    "101:'Riesgo Terreno Alto',\n",
    "104:'Riesgo Vegetación Alto',\n",
    "105:'Riesgo Vegetación Medio',\n",
    "106:'Riesgo Vegetación Bajo',\n",
    "107:'Riesgo Conductores Alto',\n",
    "111:'Riesgo Carretera Alto'} "
   ]
  },
  {
   "cell_type": "code",
   "execution_count": 6,
   "metadata": {},
   "outputs": [],
   "source": [
    "nice = [698, 701, 702, 703]"
   ]
  },
  {
   "cell_type": "code",
   "execution_count": 33,
   "metadata": {},
   "outputs": [],
   "source": [
    "Torres = df[df['feature_code'].isin(nice)].sort_values(by='y')"
   ]
  },
  {
   "cell_type": "code",
   "execution_count": 34,
   "metadata": {},
   "outputs": [],
   "source": [
    "Torres.to_csv(\"torres.csv\")"
   ]
  },
  {
   "cell_type": "code",
   "execution_count": 29,
   "metadata": {},
   "outputs": [
    {
     "data": {
      "text/html": [
       "<div>\n",
       "<style scoped>\n",
       "    .dataframe tbody tr th:only-of-type {\n",
       "        vertical-align: middle;\n",
       "    }\n",
       "\n",
       "    .dataframe tbody tr th {\n",
       "        vertical-align: top;\n",
       "    }\n",
       "\n",
       "    .dataframe thead th {\n",
       "        text-align: right;\n",
       "    }\n",
       "</style>\n",
       "<table border=\"1\" class=\"dataframe\">\n",
       "  <thead>\n",
       "    <tr style=\"text-align: right;\">\n",
       "      <th></th>\n",
       "      <th>feature_code</th>\n",
       "      <th>x</th>\n",
       "      <th>y</th>\n",
       "      <th>z</th>\n",
       "    </tr>\n",
       "  </thead>\n",
       "  <tbody>\n",
       "  </tbody>\n",
       "</table>\n",
       "</div>"
      ],
      "text/plain": [
       "Empty DataFrame\n",
       "Columns: [feature_code, x, y, z]\n",
       "Index: []"
      ]
     },
     "execution_count": 29,
     "metadata": {},
     "output_type": "execute_result"
    }
   ],
   "source": [
    "minT = Torres['y'].min()\n",
    "Torres[Torres['y'] < minT + 50]"
   ]
  },
  {
   "cell_type": "code",
   "execution_count": 26,
   "metadata": {},
   "outputs": [
    {
     "name": "stdout",
     "output_type": "stream",
     "text": [
      "MDS-01.txt\n",
      "8\n",
      "MDS-02.txt\n",
      "10\n",
      "MDS-03.txt\n",
      "7\n",
      "MDS-04.txt\n",
      "9\n",
      "MDS-05.txt\n",
      "8\n",
      "MDS-06.txt\n",
      "10\n",
      "MDS-07.txt\n",
      "6\n",
      "MDS-08.txt\n",
      "4\n",
      "MDS-09.txt\n",
      "5\n",
      "MDS-10.txt\n",
      "7\n",
      "MDS-11.txt\n",
      "8\n"
     ]
    }
   ],
   "source": [
    "path = \"../data/\"\n",
    "dic = {}\n",
    "nice = [698, 701, 702, 703]\n",
    "for i in range(1, 12):\n",
    "    file = \"MDS-\"+ str(i).zfill(2) + \".txt\"\n",
    "    print(file)\n",
    "    df = pd.read_csv(path + file, sep=' ', header=None)\n",
    "    df = df.rename(columns={0:'feature_code', 1 : 'x', 2: \"y\", 3:'z'}, errors=\"raise\")\n",
    "\n",
    "    Torres = df[df['feature_code'].isin(nice)].sort_values(by='y')\n",
    "\n",
    "    res = []\n",
    "    temp = Torres\n",
    "    while not temp.empty:\n",
    "        minT = temp['y'].min()\n",
    "        temp = temp[temp['y'] >= minT + 50]\n",
    "        res.append(minT)\n",
    "\n",
    "    dic[\"MDS-\" + str(i).zfill(2)] = res\n",
    "    print(len(res))\n",
    "\n",
    "with open('torres.json', 'w') as fp:\n",
    "    json.dump(dic, fp)\n"
   ]
  },
  {
   "cell_type": "code",
   "execution_count": null,
   "metadata": {},
   "outputs": [],
   "source": []
  },
  {
   "cell_type": "code",
   "execution_count": 1,
   "metadata": {},
   "outputs": [],
   "source": [
    "\n",
    "import laspy as lp\n",
    "import numpy as np\n",
    "import pandas as pd\n",
    "\n",
    "las = lp.read(\"../data/MDS-1.las\")"
   ]
  },
  {
   "cell_type": "code",
   "execution_count": 21,
   "metadata": {},
   "outputs": [
    {
     "data": {
      "text/plain": [
       "<ScaledArrayView([5056549.21038248 5056549.27438248 5056548.31538248 ... 5055413.07038248\n",
       " 5055413.07038248 5055413.07038248])>"
      ]
     },
     "execution_count": 21,
     "metadata": {},
     "output_type": "execute_result"
    }
   ],
   "source": [
    "las.x\n"
   ]
  },
  {
   "cell_type": "code",
   "execution_count": 22,
   "metadata": {},
   "outputs": [
    {
     "data": {
      "text/plain": [
       "array([2699890, 2699954, 2698995, ..., 1563750, 1563750, 1563750])"
      ]
     },
     "execution_count": 22,
     "metadata": {},
     "output_type": "execute_result"
    }
   ],
   "source": [
    "las.X"
   ]
  },
  {
   "cell_type": "code",
   "execution_count": 20,
   "metadata": {},
   "outputs": [
    {
     "data": {
      "text/plain": [
       "{0, 1}"
      ]
     },
     "execution_count": 20,
     "metadata": {},
     "output_type": "execute_result"
    }
   ],
   "source": [
    "set(list(las.synthetic))"
   ]
  }
 ],
 "metadata": {
  "kernelspec": {
   "display_name": "Python 3.10.0 64-bit",
   "language": "python",
   "name": "python3"
  },
  "language_info": {
   "codemirror_mode": {
    "name": "ipython",
    "version": 3
   },
   "file_extension": ".py",
   "mimetype": "text/x-python",
   "name": "python",
   "nbconvert_exporter": "python",
   "pygments_lexer": "ipython3",
   "version": "3.10.0"
  },
  "orig_nbformat": 4,
  "vscode": {
   "interpreter": {
    "hash": "26de051ba29f2982a8de78e945f0abaf191376122a1563185a90213a26c5da77"
   }
  }
 },
 "nbformat": 4,
 "nbformat_minor": 2
}
